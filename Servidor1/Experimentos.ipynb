{
 "cells": [
  {
   "cell_type": "code",
   "execution_count": 11,
   "id": "435a2ecd-3719-4f62-96e1-e391d4dbf478",
   "metadata": {},
   "outputs": [
    {
     "data": {
      "text/plain": [
       "<Experiment: artifact_location='s3://mlflows3/artifacts/1', creation_time=1746120440749, experiment_id='1', last_update_time=1746120440749, lifecycle_stage='active', name='diabetes_readmission_experiments', tags={}>"
      ]
     },
     "execution_count": 11,
     "metadata": {},
     "output_type": "execute_result"
    }
   ],
   "source": [
    "import os\n",
    "import warnings\n",
    "import pandas as pd\n",
    "from sqlalchemy import create_engine\n",
    "import mlflow\n",
    "import mlflow.sklearn\n",
    "from sklearn.preprocessing import StandardScaler\n",
    "from mlflow.models.signature import infer_signature\n",
    "from sklearn.model_selection import train_test_split\n",
    "from sklearn.linear_model import LogisticRegression\n",
    "from sklearn.ensemble import RandomForestClassifier\n",
    "from sklearn.metrics import accuracy_score, roc_auc_score\n",
    "\n",
    "# Suprimir warnings de InsecureRequestWarning\n",
    "warnings.filterwarnings(\"ignore\", category=UserWarning)\n",
    "\n",
    "# Variables de conexión a MySQL CleanData\n",
    "db_user = \"model_user\"\n",
    "db_pass = \"model_password\"\n",
    "db_host = \"mysql-service\"\n",
    "db_port = 3306\n",
    "clean_db = \"CleanData\"\n",
    "CLEAN_URI = f\"mysql+pymysql://{db_user}:{db_pass}@{db_host}:{db_port}/{clean_db}\"\n",
    "\n",
    "# Configuración MLflow / MinIO\n",
    "os.environ[\"MLFLOW_S3_ENDPOINT_URL\"] = \"http://10.43.101.196:30001\"\n",
    "os.environ[\"AWS_ACCESS_KEY_ID\"] = \"admin\"\n",
    "os.environ[\"AWS_SECRET_ACCESS_KEY\"] = \"supersecret\"\n",
    "mlflow.set_tracking_uri(\"http://10.43.101.196:30003\")\n",
    "mlflow.set_experiment(\"diabetes_readmission_experiments\")"
   ]
  },
  {
   "cell_type": "code",
   "execution_count": 12,
   "id": "c8b817fb-28e4-4348-b5fb-c2ecb1ab42db",
   "metadata": {},
   "outputs": [
    {
     "name": "stdout",
     "output_type": "stream",
     "text": [
      "Shapes: (30000, 51) (20353, 51) (20354, 51)\n"
     ]
    }
   ],
   "source": [
    "# Crear engine y cargar splits procesados\n",
    "en_engine = create_engine(CLEAN_URI)\n",
    "df_train = pd.read_sql(\"SELECT * FROM diabetes_train_processed\", con=en_engine)\n",
    "df_val   = pd.read_sql(\"SELECT * FROM diabetes_validation_processed\", con=en_engine)\n",
    "df_test  = pd.read_sql(\"SELECT * FROM diabetes_test_processed\", con=en_engine)\n",
    "\n",
    "print(\"Shapes:\", df_train.shape, df_val.shape, df_test.shape)"
   ]
  },
  {
   "cell_type": "code",
   "execution_count": 13,
   "id": "4731f12f-cc07-4fc7-a929-036a54d134b9",
   "metadata": {},
   "outputs": [],
   "source": [
    "#Defiónicion de Modelos y funcion de Entrenamiento\n",
    "def run_experiment(model, name):\n",
    "    \"\"\"\n",
    "    Entrena el modelo, evalúa en validación y test,\n",
    "    y registra métricas y artefactos en MLflow.\n",
    "    Incluye escalado de datos y generación de signature + input_example.\n",
    "    \"\"\"\n",
    "    # Separar X/y\n",
    "    X_train_df = df_train.drop(\"early_readmit\", axis=1)\n",
    "    y_train    = df_train[\"early_readmit\"]\n",
    "    X_val_df   = df_val.drop(\"early_readmit\", axis=1)\n",
    "    y_val      = df_val[\"early_readmit\"]\n",
    "    X_test_df  = df_test.drop(\"early_readmit\", axis=1)\n",
    "    y_test     = df_test[\"early_readmit\"]\n",
    "\n",
    "    # Escalado\n",
    "    scaler = StandardScaler()\n",
    "    X_train_scaled = scaler.fit_transform(X_train_df)\n",
    "    X_val_scaled   = scaler.transform(X_val_df)\n",
    "    X_test_scaled  = scaler.transform(X_test_df)\n",
    "\n",
    "    # Reconstruir DataFrames escalados\n",
    "    X_train_scaled_df = pd.DataFrame(X_train_scaled, columns=X_train_df.columns)\n",
    "    X_val_scaled_df   = pd.DataFrame(X_val_scaled,   columns=X_val_df.columns)\n",
    "    X_test_scaled_df  = pd.DataFrame(X_test_scaled,  columns=X_test_df.columns)\n",
    "\n",
    "    with mlflow.start_run(run_name=name):\n",
    "        # Entrenamiento\n",
    "        model.fit(X_train_scaled_df, y_train)\n",
    "\n",
    "        # Evaluación en validación\n",
    "        y_val_pred  = model.predict(X_val_scaled_df)\n",
    "        y_val_proba = model.predict_proba(X_val_scaled_df)[:, 1]\n",
    "        val_acc     = accuracy_score(y_val, y_val_pred)\n",
    "        val_roc     = roc_auc_score(y_val, y_val_proba)\n",
    "\n",
    "        # Evaluación en test\n",
    "        y_test_pred  = model.predict(X_test_scaled_df)\n",
    "        y_test_proba = model.predict_proba(X_test_scaled_df)[:, 1]\n",
    "        test_acc     = accuracy_score(y_test, y_test_pred)\n",
    "        test_roc     = roc_auc_score(y_test, y_test_proba)\n",
    "\n",
    "        # Log de parámetros y métricas\n",
    "        mlflow.log_params(model.get_params())\n",
    "        mlflow.log_metric(\"val_accuracy\", val_acc)\n",
    "        mlflow.log_metric(\"val_roc_auc\", val_roc)\n",
    "        mlflow.log_metric(\"test_accuracy\", test_acc)\n",
    "        mlflow.log_metric(\"test_roc_auc\", test_roc)\n",
    "\n",
    "        # Generar signature e input example\n",
    "        input_example = X_train_scaled_df.head(3)\n",
    "        signature     = infer_signature(X_train_scaled_df, model.predict_proba(X_train_scaled_df))\n",
    "\n",
    "        # Registrar modelo con signature y example\n",
    "        mlflow.sklearn.log_model(\n",
    "            sk_model=model,\n",
    "            artifact_path=\"model\",\n",
    "            signature=signature,\n",
    "            input_example=input_example\n",
    "        )\n",
    "\n",
    "        print(f\"Run {name}: val_acc={val_acc:.4f}, val_roc={val_roc:.4f}, test_acc={test_acc:.4f}, test_roc={test_roc:.4f}\")\n",
    "\n",
    "# Definir lista de modelos a probar con max_iter aumentado\n",
    "models = {\n",
    "    \"LogisticRegression\": LogisticRegression(max_iter=1000, solver='lbfgs'),\n",
    "    \"RandomForest\": RandomForestClassifier(n_estimators=100, random_state=42)\n",
    "}"
   ]
  },
  {
   "cell_type": "code",
   "execution_count": 15,
   "id": "0cbb5d24-c3d1-42d2-bb26-8763371b998b",
   "metadata": {
    "scrolled": true
   },
   "outputs": [
    {
     "name": "stdout",
     "output_type": "stream",
     "text": [
      "Run LR_C_0.01: val_acc=0.8890, val_roc=0.6378, test_acc=0.8880, test_roc=0.6389\n",
      "🏃 View run LR_C_0.01 at: http://10.43.101.196:30003/#/experiments/1/runs/0296729dc7ce451aae1d6fc5b7fb2f9d\n",
      "🧪 View experiment at: http://10.43.101.196:30003/#/experiments/1\n",
      "Run LR_C_0.1: val_acc=0.8890, val_roc=0.6375, test_acc=0.8878, test_roc=0.6380\n",
      "🏃 View run LR_C_0.1 at: http://10.43.101.196:30003/#/experiments/1/runs/8abd032dabcb49a68ccde29817c9acf0\n",
      "🧪 View experiment at: http://10.43.101.196:30003/#/experiments/1\n",
      "Run LR_C_1: val_acc=0.8890, val_roc=0.6374, test_acc=0.8878, test_roc=0.6379\n",
      "🏃 View run LR_C_1 at: http://10.43.101.196:30003/#/experiments/1/runs/b9e2e9038c354319a2bbbd4f78eb69bf\n",
      "🧪 View experiment at: http://10.43.101.196:30003/#/experiments/1\n",
      "Run RF_100: val_acc=0.8885, val_roc=0.6053, test_acc=0.8870, test_roc=0.6067\n",
      "🏃 View run RF_100 at: http://10.43.101.196:30003/#/experiments/1/runs/c23821f9b0a3411ba10e6320b4df7989\n",
      "🧪 View experiment at: http://10.43.101.196:30003/#/experiments/1\n",
      "Run RF_200: val_acc=0.8887, val_roc=0.6164, test_acc=0.8874, test_roc=0.6144\n",
      "🏃 View run RF_200 at: http://10.43.101.196:30003/#/experiments/1/runs/6ff10c3e762349cfadc575a33323138b\n",
      "🧪 View experiment at: http://10.43.101.196:30003/#/experiments/1\n",
      "Run RF_depth10: val_acc=0.8891, val_roc=0.6432, test_acc=0.8877, test_roc=0.6480\n",
      "🏃 View run RF_depth10 at: http://10.43.101.196:30003/#/experiments/1/runs/d4dab0df295c46fc84bf055aadc2d9c0\n",
      "🧪 View experiment at: http://10.43.101.196:30003/#/experiments/1\n"
     ]
    }
   ],
   "source": [
    "# Definimos diversas configuraciones de modelos\n",
    "experiments = [\n",
    "    (\"LR_C_0.01\", LogisticRegression(C=0.01, max_iter=1000, solver='lbfgs')),\n",
    "    (\"LR_C_0.1\",  LogisticRegression(C=0.1,  max_iter=1000, solver='lbfgs')),\n",
    "    (\"LR_C_1\",    LogisticRegression(C=1.0,  max_iter=1000, solver='lbfgs')),\n",
    "    (\"RF_100\",    RandomForestClassifier(n_estimators=100, random_state=42)),\n",
    "    (\"RF_200\",    RandomForestClassifier(n_estimators=200, random_state=42)),\n",
    "    (\"RF_depth10\",RandomForestClassifier(n_estimators=100, max_depth=10, random_state=42)),\n",
    "]\n",
    "\n",
    "# Ejecutar cada experimento\n",
    "for name, model in experiments:\n",
    "    run_experiment(model, name)"
   ]
  },
  {
   "cell_type": "code",
   "execution_count": 16,
   "id": "85af6288-8d36-4df3-b97e-ffdc0a7d428d",
   "metadata": {},
   "outputs": [
    {
     "name": "stderr",
     "output_type": "stream",
     "text": [
      "2025/05/01 18:10:35 INFO mlflow.store.model_registry.abstract_store: Waiting up to 300 seconds for model version to finish creation. Model name: best_diabetes_readmission_model, version 1\n"
     ]
    },
    {
     "name": "stdout",
     "output_type": "stream",
     "text": [
      "Modelo 'best_diabetes_readmission_model' versión 1 promocionado a Production (run_id=d4dab0df295c46fc84bf055aadc2d9c0).\n"
     ]
    },
    {
     "name": "stderr",
     "output_type": "stream",
     "text": [
      "/tmp/ipykernel_605/3186217079.py:32: FutureWarning: ``mlflow.tracking.client.MlflowClient.transition_model_version_stage`` is deprecated since 2.9.0. Model registry stages will be removed in a future major release. To learn more about the deprecation of model registry stages, see our migration guide here: https://mlflow.org/docs/latest/model-registry.html#migrating-from-stages\n",
      "  client.transition_model_version_stage(\n"
     ]
    }
   ],
   "source": [
    "from mlflow.tracking import MlflowClient\n",
    "\n",
    "# Configurar cliente\n",
    "client = MlflowClient(tracking_uri=\"http://10.43.101.196:30003\")\n",
    "\n",
    "# Obtener ID del experimento\n",
    "experiment = client.get_experiment_by_name(\"diabetes_readmission_experiments\")\n",
    "# Buscar runs ordenadas por val_roc_auc descendente\n",
    "runs = client.search_runs(\n",
    "    experiment_ids=[experiment.experiment_id],\n",
    "    order_by=[\"metrics.val_roc_auc DESC\"]\n",
    ")\n",
    "\n",
    "# Seleccionar la mejor run\n",
    "best_run = runs[0]\n",
    "best_run_id = best_run.info.run_id\n",
    "model_uri = f\"runs:/{best_run_id}/model\"\n",
    "model_name = \"best_diabetes_readmission_model\"\n",
    "\n",
    "# Crear o recuperar registro de modelo\n",
    "try:\n",
    "    client.get_registered_model(model_name)\n",
    "except Exception:\n",
    "    client.create_registered_model(model_name)\n",
    "\n",
    "# Registrar nueva versión y promover a Production\n",
    "mv = client.create_model_version(\n",
    "    name=model_name,\n",
    "    source=model_uri,\n",
    "    run_id=best_run_id\n",
    ")\n",
    "client.transition_model_version_stage(\n",
    "    name=model_name,\n",
    "    version=mv.version,\n",
    "    stage=\"Production\",\n",
    "    archive_existing_versions=True\n",
    ")\n",
    "\n",
    "print(f\"Modelo '{model_name}' versión {mv.version} promocionado a Production (run_id={best_run_id}).\")"
   ]
  },
  {
   "cell_type": "code",
   "execution_count": null,
   "id": "88ca4da0-d6da-4645-9ab2-39ff01937171",
   "metadata": {},
   "outputs": [],
   "source": []
  }
 ],
 "metadata": {
  "kernelspec": {
   "display_name": "Python 3 (ipykernel)",
   "language": "python",
   "name": "python3"
  },
  "language_info": {
   "codemirror_mode": {
    "name": "ipython",
    "version": 3
   },
   "file_extension": ".py",
   "mimetype": "text/x-python",
   "name": "python",
   "nbconvert_exporter": "python",
   "pygments_lexer": "ipython3",
   "version": "3.11.6"
  }
 },
 "nbformat": 4,
 "nbformat_minor": 5
}
